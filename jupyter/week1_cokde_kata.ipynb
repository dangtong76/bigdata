{
 "cells": [
  {
   "cell_type": "markdown",
   "metadata": {},
   "source": [
    "# 1주차 Codekata"
   ]
  },
  {
   "cell_type": "markdown",
   "metadata": {},
   "source": [
    "#### 1. 5명의 학생으로 이루어진 학교에서 학생들의 신체수치를 데이터화 하기 위해 id, name, age, height, weight 를 속성으로 리스트 데이터셋을 만들고 출력하세요. 데이터는 아래와 같습니다.\n",
    "+ 1, john, 18, 180, 88\n",
    "+ 2, bob, 18, 176, 66\n",
    "+ 3, tera, 18, 170, 77\n",
    "+ 4, jane, 18, 180, 99\n",
    "+ 5, jim, 18, 172, 88"
   ]
  },
  {
   "cell_type": "code",
   "execution_count": 86,
   "metadata": {},
   "outputs": [],
   "source": [
    "id <- c(1,2,3,4,5)\n",
    "name <- c(\"john\",\"bob\",\"tera\",\"jane\",\"jim\")\n",
    "age <- c(18,18,18,18,18)\n",
    "height <- c(180,176,170,180,172)\n",
    "weight <- c(88,66,77,99,88)"
   ]
  },
  {
   "cell_type": "code",
   "execution_count": 89,
   "metadata": {},
   "outputs": [],
   "source": [
    "student1 <- list(id, name, age, height, weight) # 리스트는 되도록 Key/Value 로 할것 데이터 프레임으로 변환시 컬럼이름이 임의로 들어감"
   ]
  },
  {
   "cell_type": "code",
   "execution_count": 90,
   "metadata": {},
   "outputs": [],
   "source": [
    "student1 <- list(ID=id, NAME=name, AGE=age, HEIGHT=height, WEIGHT=weight)"
   ]
  },
  {
   "cell_type": "code",
   "execution_count": 91,
   "metadata": {
    "scrolled": false
   },
   "outputs": [
    {
     "data": {
      "text/html": [
       "<dl>\n",
       "\t<dt>$ID</dt>\n",
       "\t\t<dd><ol class=list-inline>\n",
       "\t<li>1</li>\n",
       "\t<li>2</li>\n",
       "\t<li>3</li>\n",
       "\t<li>4</li>\n",
       "\t<li>5</li>\n",
       "</ol>\n",
       "</dd>\n",
       "\t<dt>$NAME</dt>\n",
       "\t\t<dd><ol class=list-inline>\n",
       "\t<li>'john'</li>\n",
       "\t<li>'bob'</li>\n",
       "\t<li>'tera'</li>\n",
       "\t<li>'jane'</li>\n",
       "\t<li>'jim'</li>\n",
       "</ol>\n",
       "</dd>\n",
       "\t<dt>$AGE</dt>\n",
       "\t\t<dd><ol class=list-inline>\n",
       "\t<li>18</li>\n",
       "\t<li>18</li>\n",
       "\t<li>18</li>\n",
       "\t<li>18</li>\n",
       "\t<li>18</li>\n",
       "</ol>\n",
       "</dd>\n",
       "\t<dt>$HEIGHT</dt>\n",
       "\t\t<dd><ol class=list-inline>\n",
       "\t<li>180</li>\n",
       "\t<li>176</li>\n",
       "\t<li>170</li>\n",
       "\t<li>180</li>\n",
       "\t<li>172</li>\n",
       "</ol>\n",
       "</dd>\n",
       "\t<dt>$WEIGHT</dt>\n",
       "\t\t<dd><ol class=list-inline>\n",
       "\t<li>88</li>\n",
       "\t<li>66</li>\n",
       "\t<li>77</li>\n",
       "\t<li>99</li>\n",
       "\t<li>88</li>\n",
       "</ol>\n",
       "</dd>\n",
       "</dl>\n"
      ],
      "text/latex": [
       "\\begin{description}\n",
       "\\item[\\$ID] \\begin{enumerate*}\n",
       "\\item 1\n",
       "\\item 2\n",
       "\\item 3\n",
       "\\item 4\n",
       "\\item 5\n",
       "\\end{enumerate*}\n",
       "\n",
       "\\item[\\$NAME] \\begin{enumerate*}\n",
       "\\item 'john'\n",
       "\\item 'bob'\n",
       "\\item 'tera'\n",
       "\\item 'jane'\n",
       "\\item 'jim'\n",
       "\\end{enumerate*}\n",
       "\n",
       "\\item[\\$AGE] \\begin{enumerate*}\n",
       "\\item 18\n",
       "\\item 18\n",
       "\\item 18\n",
       "\\item 18\n",
       "\\item 18\n",
       "\\end{enumerate*}\n",
       "\n",
       "\\item[\\$HEIGHT] \\begin{enumerate*}\n",
       "\\item 180\n",
       "\\item 176\n",
       "\\item 170\n",
       "\\item 180\n",
       "\\item 172\n",
       "\\end{enumerate*}\n",
       "\n",
       "\\item[\\$WEIGHT] \\begin{enumerate*}\n",
       "\\item 88\n",
       "\\item 66\n",
       "\\item 77\n",
       "\\item 99\n",
       "\\item 88\n",
       "\\end{enumerate*}\n",
       "\n",
       "\\end{description}\n"
      ],
      "text/markdown": [
       "$ID\n",
       ":   1. 1\n",
       "2. 2\n",
       "3. 3\n",
       "4. 4\n",
       "5. 5\n",
       "\n",
       "\n",
       "\n",
       "$NAME\n",
       ":   1. 'john'\n",
       "2. 'bob'\n",
       "3. 'tera'\n",
       "4. 'jane'\n",
       "5. 'jim'\n",
       "\n",
       "\n",
       "\n",
       "$AGE\n",
       ":   1. 18\n",
       "2. 18\n",
       "3. 18\n",
       "4. 18\n",
       "5. 18\n",
       "\n",
       "\n",
       "\n",
       "$HEIGHT\n",
       ":   1. 180\n",
       "2. 176\n",
       "3. 170\n",
       "4. 180\n",
       "5. 172\n",
       "\n",
       "\n",
       "\n",
       "$WEIGHT\n",
       ":   1. 88\n",
       "2. 66\n",
       "3. 77\n",
       "4. 99\n",
       "5. 88\n",
       "\n",
       "\n",
       "\n",
       "\n",
       "\n"
      ],
      "text/plain": [
       "$ID\n",
       "[1] 1 2 3 4 5\n",
       "\n",
       "$NAME\n",
       "[1] \"john\" \"bob\"  \"tera\" \"jane\" \"jim\" \n",
       "\n",
       "$AGE\n",
       "[1] 18 18 18 18 18\n",
       "\n",
       "$HEIGHT\n",
       "[1] 180 176 170 180 172\n",
       "\n",
       "$WEIGHT\n",
       "[1] 88 66 77 99 88\n"
      ]
     },
     "metadata": {},
     "output_type": "display_data"
    }
   ],
   "source": [
    "student1"
   ]
  },
  {
   "cell_type": "markdown",
   "metadata": {},
   "source": [
    "#### 2. student1 리스트를 student2 라는 이름의 데이터프레임으로 변환 출력하세요"
   ]
  },
  {
   "cell_type": "code",
   "execution_count": 92,
   "metadata": {},
   "outputs": [],
   "source": [
    "student2 <- as.data.frame(student1)"
   ]
  },
  {
   "cell_type": "code",
   "execution_count": 93,
   "metadata": {},
   "outputs": [
    {
     "data": {
      "text/html": [
       "<table>\n",
       "<thead><tr><th scope=col>ID</th><th scope=col>NAME</th><th scope=col>AGE</th><th scope=col>HEIGHT</th><th scope=col>WEIGHT</th></tr></thead>\n",
       "<tbody>\n",
       "\t<tr><td>1   </td><td>john</td><td>18  </td><td>180 </td><td>88  </td></tr>\n",
       "\t<tr><td>2   </td><td>bob </td><td>18  </td><td>176 </td><td>66  </td></tr>\n",
       "\t<tr><td>3   </td><td>tera</td><td>18  </td><td>170 </td><td>77  </td></tr>\n",
       "\t<tr><td>4   </td><td>jane</td><td>18  </td><td>180 </td><td>99  </td></tr>\n",
       "\t<tr><td>5   </td><td>jim </td><td>18  </td><td>172 </td><td>88  </td></tr>\n",
       "</tbody>\n",
       "</table>\n"
      ],
      "text/latex": [
       "\\begin{tabular}{r|lllll}\n",
       " ID & NAME & AGE & HEIGHT & WEIGHT\\\\\n",
       "\\hline\n",
       "\t 1    & john & 18   & 180  & 88  \\\\\n",
       "\t 2    & bob  & 18   & 176  & 66  \\\\\n",
       "\t 3    & tera & 18   & 170  & 77  \\\\\n",
       "\t 4    & jane & 18   & 180  & 99  \\\\\n",
       "\t 5    & jim  & 18   & 172  & 88  \\\\\n",
       "\\end{tabular}\n"
      ],
      "text/markdown": [
       "\n",
       "ID | NAME | AGE | HEIGHT | WEIGHT | \n",
       "|---|---|---|---|---|\n",
       "| 1    | john | 18   | 180  | 88   | \n",
       "| 2    | bob  | 18   | 176  | 66   | \n",
       "| 3    | tera | 18   | 170  | 77   | \n",
       "| 4    | jane | 18   | 180  | 99   | \n",
       "| 5    | jim  | 18   | 172  | 88   | \n",
       "\n",
       "\n"
      ],
      "text/plain": [
       "  ID NAME AGE HEIGHT WEIGHT\n",
       "1 1  john 18  180    88    \n",
       "2 2  bob  18  176    66    \n",
       "3 3  tera 18  170    77    \n",
       "4 4  jane 18  180    99    \n",
       "5 5  jim  18  172    88    "
      ]
     },
     "metadata": {},
     "output_type": "display_data"
    }
   ],
   "source": [
    "student2"
   ]
  },
  {
   "cell_type": "markdown",
   "metadata": {},
   "source": [
    "#### 3. 학생들의 ID, 키, 몸무게 만 뽑아서 matrix_student 라는 이름의 행열로 전화 하세요"
   ]
  },
  {
   "cell_type": "code",
   "execution_count": 108,
   "metadata": {},
   "outputs": [],
   "source": [
    "matrix_student <- as.matrix(student2[c(1,4,5)])"
   ]
  },
  {
   "cell_type": "code",
   "execution_count": 109,
   "metadata": {
    "scrolled": true
   },
   "outputs": [
    {
     "data": {
      "text/html": [
       "<table>\n",
       "<thead><tr><th scope=col>ID</th><th scope=col>HEIGHT</th><th scope=col>WEIGHT</th></tr></thead>\n",
       "<tbody>\n",
       "\t<tr><td>1  </td><td>180</td><td>88 </td></tr>\n",
       "\t<tr><td>2  </td><td>176</td><td>66 </td></tr>\n",
       "\t<tr><td>3  </td><td>170</td><td>77 </td></tr>\n",
       "\t<tr><td>4  </td><td>180</td><td>99 </td></tr>\n",
       "\t<tr><td>5  </td><td>172</td><td>88 </td></tr>\n",
       "</tbody>\n",
       "</table>\n"
      ],
      "text/latex": [
       "\\begin{tabular}{lll}\n",
       " ID & HEIGHT & WEIGHT\\\\\n",
       "\\hline\n",
       "\t 1   & 180 & 88 \\\\\n",
       "\t 2   & 176 & 66 \\\\\n",
       "\t 3   & 170 & 77 \\\\\n",
       "\t 4   & 180 & 99 \\\\\n",
       "\t 5   & 172 & 88 \\\\\n",
       "\\end{tabular}\n"
      ],
      "text/markdown": [
       "\n",
       "ID | HEIGHT | WEIGHT | \n",
       "|---|---|---|---|---|\n",
       "| 1   | 180 | 88  | \n",
       "| 2   | 176 | 66  | \n",
       "| 3   | 170 | 77  | \n",
       "| 4   | 180 | 99  | \n",
       "| 5   | 172 | 88  | \n",
       "\n",
       "\n"
      ],
      "text/plain": [
       "     ID HEIGHT WEIGHT\n",
       "[1,] 1  180    88    \n",
       "[2,] 2  176    66    \n",
       "[3,] 3  170    77    \n",
       "[4,] 4  180    99    \n",
       "[5,] 5  172    88    "
      ]
     },
     "metadata": {},
     "output_type": "display_data"
    }
   ],
   "source": [
    "matrix_student"
   ]
  },
  {
   "cell_type": "markdown",
   "metadata": {},
   "source": [
    "#### 4. matrix_student 행렬을 전치(transpose) 시키십시요"
   ]
  },
  {
   "cell_type": "code",
   "execution_count": 110,
   "metadata": {},
   "outputs": [
    {
     "data": {
      "text/html": [
       "<table>\n",
       "<tbody>\n",
       "\t<tr><th scope=row>ID</th><td>  1</td><td>  2</td><td>  3</td><td>  4</td><td>  5</td></tr>\n",
       "\t<tr><th scope=row>HEIGHT</th><td>180</td><td>176</td><td>170</td><td>180</td><td>172</td></tr>\n",
       "\t<tr><th scope=row>WEIGHT</th><td> 88</td><td> 66</td><td> 77</td><td> 99</td><td> 88</td></tr>\n",
       "</tbody>\n",
       "</table>\n"
      ],
      "text/latex": [
       "\\begin{tabular}{r|lllll}\n",
       "\tID &   1 &   2 &   3 &   4 &   5\\\\\n",
       "\tHEIGHT & 180 & 176 & 170 & 180 & 172\\\\\n",
       "\tWEIGHT &  88 &  66 &  77 &  99 &  88\\\\\n",
       "\\end{tabular}\n"
      ],
      "text/markdown": [
       "\n",
       "| ID |   1 |   2 |   3 |   4 |   5 | \n",
       "| HEIGHT | 180 | 176 | 170 | 180 | 172 | \n",
       "| WEIGHT |  88 |  66 |  77 |  99 |  88 | \n",
       "\n",
       "\n"
      ],
      "text/plain": [
       "       [,1] [,2] [,3] [,4] [,5]\n",
       "ID       1    2    3    4    5 \n",
       "HEIGHT 180  176  170  180  172 \n",
       "WEIGHT  88   66   77   99   88 "
      ]
     },
     "metadata": {},
     "output_type": "display_data"
    }
   ],
   "source": [
    "t(matrix_student)"
   ]
  },
  {
   "cell_type": "markdown",
   "metadata": {},
   "source": [
    "#### 5번. Student2[\"NAME\"] 열의 속성은 문자인가 팩터 인가? 확인해보세요"
   ]
  },
  {
   "cell_type": "code",
   "execution_count": 96,
   "metadata": {},
   "outputs": [
    {
     "data": {
      "text/html": [
       "TRUE"
      ],
      "text/latex": [
       "TRUE"
      ],
      "text/markdown": [
       "TRUE"
      ],
      "text/plain": [
       "[1] TRUE"
      ]
     },
     "metadata": {},
     "output_type": "display_data"
    }
   ],
   "source": [
    "is.factor(student2$NAME)"
   ]
  },
  {
   "cell_type": "markdown",
   "metadata": {},
   "source": [
    "#### 6번, 리스트 student1을 데이터 프레임 student2 로 변환시 NAME 필드가 팩터형이 아닌 문자형으로 유지하게 변환하고, NAME 필드가 팩터형이지 확인 해보세요"
   ]
  },
  {
   "cell_type": "code",
   "execution_count": 97,
   "metadata": {},
   "outputs": [],
   "source": [
    "student2 <- as.data.frame(student1, stringsAsFactors=FALSE)"
   ]
  },
  {
   "cell_type": "code",
   "execution_count": 98,
   "metadata": {},
   "outputs": [
    {
     "data": {
      "text/html": [
       "FALSE"
      ],
      "text/latex": [
       "FALSE"
      ],
      "text/markdown": [
       "FALSE"
      ],
      "text/plain": [
       "[1] FALSE"
      ]
     },
     "metadata": {},
     "output_type": "display_data"
    }
   ],
   "source": [
    "is.factor(student2$NAME)"
   ]
  },
  {
   "cell_type": "code",
   "execution_count": 99,
   "metadata": {},
   "outputs": [
    {
     "data": {
      "text/html": [
       "<ol class=list-inline>\n",
       "\t<li>'john'</li>\n",
       "\t<li>'bob'</li>\n",
       "\t<li>'tera'</li>\n",
       "\t<li>'jane'</li>\n",
       "\t<li>'jim'</li>\n",
       "</ol>\n"
      ],
      "text/latex": [
       "\\begin{enumerate*}\n",
       "\\item 'john'\n",
       "\\item 'bob'\n",
       "\\item 'tera'\n",
       "\\item 'jane'\n",
       "\\item 'jim'\n",
       "\\end{enumerate*}\n"
      ],
      "text/markdown": [
       "1. 'john'\n",
       "2. 'bob'\n",
       "3. 'tera'\n",
       "4. 'jane'\n",
       "5. 'jim'\n",
       "\n",
       "\n"
      ],
      "text/plain": [
       "[1] \"john\" \"bob\"  \"tera\" \"jane\" \"jim\" "
      ]
     },
     "metadata": {},
     "output_type": "display_data"
    }
   ],
   "source": [
    "student2$NAME"
   ]
  },
  {
   "cell_type": "markdown",
   "metadata": {},
   "source": [
    "#### 7번. matrix_student fmf "
   ]
  },
  {
   "cell_type": "code",
   "execution_count": null,
   "metadata": {},
   "outputs": [],
   "source": []
  }
 ],
 "metadata": {
  "kernelspec": {
   "display_name": "R",
   "language": "R",
   "name": "ir"
  },
  "language_info": {
   "codemirror_mode": "r",
   "file_extension": ".r",
   "mimetype": "text/x-r-source",
   "name": "R",
   "pygments_lexer": "r",
   "version": "3.5.1"
  }
 },
 "nbformat": 4,
 "nbformat_minor": 2
}
